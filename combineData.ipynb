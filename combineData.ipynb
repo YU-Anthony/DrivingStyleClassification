{
 "cells": [
  {
   "cell_type": "code",
   "execution_count": 39,
   "metadata": {},
   "outputs": [
    {
     "name": "stdout",
     "output_type": "stream",
     "text": [
      "['update_p1.csv', 'update_p2.csv', 'update_p3.csv', 'update_p4.csv', 'update_p5.csv', 'update_p6.csv', 'update_p7.csv', 'update_p8.csv', 'update_p9.csv', 'update_p10.csv', 'update_p11.csv', 'update_p12.csv', 'update_p13.csv', 'update_p14.csv', 'update_p15.csv', 'update_p16.csv', 'update_p17.csv', 'update_p18.csv', 'update_p19.csv', 'update_p20.csv', 'update_p21.csv', 'update_p22.csv', 'update_p23.csv', 'update_p24.csv', 'update_p25.csv', 'update_p26.csv', 'update_p27.csv', 'update_p28.csv', 'update_p29.csv', 'update_p30.csv', 'update_p31.csv', 'update_p32.csv', 'update_p33.csv', 'update_p34.csv', 'update_p35.csv', 'update_p36.csv']\n"
     ]
    }
   ],
   "source": [
    "import pandas as pd  \n",
    "import os  \n",
    "Folder_Path = '/Users/anthony/Desktop/SummerReserach/UCC/analyzerData/preprocess/rawData'          #要拼接的文件夹及其完整路径，注意不要包含中文  \n",
    "SaveFile_Path =  '/Users/anthony/Desktop/SummerReserach/UCC/analyzerData/preprocess/rawData'       #拼接后要保存的文件路径  \n",
    "SaveFile_Name = '8lanes-highDensity.csv'              #合并后要保存的文件名  \n",
    "\n",
    "\n",
    "#修改当前工作目录  \n",
    "os.chdir(Folder_Path) \n",
    "#将该文件夹下的所有文件名存入一个列表  \n",
    "file_list = os.listdir()  \n",
    "\n",
    "file_list.remove('.DS_Store')\n",
    "\n",
    "\n",
    "file_list.sort(key=lambda x:int(x[8:-4]))#倒着数第四位'.'为分界线，按照‘.’左边的数字从小到大排序\n",
    "\n",
    "print(file_list)\n",
    "\n",
    "#读取第一个CSV文件并包含表头  \n",
    "df = pd.read_csv(Folder_Path +'/'+ file_list[index])  #编码默认UTF-8，若乱码自行更改\n",
    "\n",
    "#将读取的第一个CSV文件写入合并后的文件保存  \n",
    "df.to_csv(SaveFile_Path+'/'+ SaveFile_Name,encoding=\"utf_8_sig\",index=False)  \n",
    "\n",
    "#循环遍历列表中各个CSV文件名，并追加到合并后的文件  \n",
    "FileStart = 1\n",
    "FileEnd = len(file_list)\n",
    "for i in range(FileStart,FileEnd):  \n",
    "    df = pd.read_csv(Folder_Path + '/'+ file_list[i])  \n",
    "    df.to_csv(SaveFile_Path+'/'+ SaveFile_Name,encoding=\"utf_8_sig\",index=False, header=False, mode='a+')"
   ]
  },
  {
   "cell_type": "code",
   "execution_count": null,
   "metadata": {},
   "outputs": [],
   "source": []
  },
  {
   "cell_type": "code",
   "execution_count": null,
   "metadata": {},
   "outputs": [],
   "source": []
  }
 ],
 "metadata": {
  "kernelspec": {
   "display_name": "Python 3",
   "language": "python",
   "name": "python3"
  },
  "language_info": {
   "codemirror_mode": {
    "name": "ipython",
    "version": 3
   },
   "file_extension": ".py",
   "mimetype": "text/x-python",
   "name": "python",
   "nbconvert_exporter": "python",
   "pygments_lexer": "ipython3",
   "version": "3.8.3"
  }
 },
 "nbformat": 4,
 "nbformat_minor": 4
}
